{
 "cells": [
  {
   "cell_type": "code",
   "execution_count": 9,
   "metadata": {
    "collapsed": true
   },
   "outputs": [],
   "source": [
    "%matplotlib inline\n",
    "from __future__ import print_function\n",
    "\n",
    "import os\n",
    "import subprocess\n",
    "\n",
    "import pandas as pd\n",
    "import numpy as np\n",
    "from sklearn import tree\n",
    "from sklearn.tree import DecisionTreeClassifier, export_graphviz\n",
    "from sklearn.neighbors import KNeighborsClassifier\n",
    "from sklearn.neural_network import MLPClassifier\n",
    "from sklearn import svm\n",
    "from sklearn import datasets, linear_model\n",
    "from sklearn.model_selection import cross_val_score\n",
    "from sklearn.ensemble import AdaBoostClassifier\n",
    "from sklearn.model_selection import train_test_split\n",
    "from matplotlib import pyplot as plt\n",
    "from sklearn.model_selection import GridSearchCV\n",
    "from decimal import Decimal"
   ]
  },
  {
   "cell_type": "code",
   "execution_count": 10,
   "metadata": {
    "collapsed": true
   },
   "outputs": [],
   "source": [
    "def get_data():\n",
    "    \"\"\"Get the data, from local csv or pandas repo.\"\"\"\n",
    "    if os.path.exists(\"Leaf.csv\"):\n",
    "        print(\"-- data.csv found locally\")\n",
    "        df = pd.read_csv(\"Leaf.csv\")\n",
    "    return df"
   ]
  },
  {
   "cell_type": "code",
   "execution_count": 11,
   "metadata": {},
   "outputs": [
    {
     "name": "stdout",
     "output_type": "stream",
     "text": [
      "-- data.csv found locally\n"
     ]
    }
   ],
   "source": [
    "df = get_data()\n",
    "df.dropna(inplace=True)"
   ]
  },
  {
   "cell_type": "code",
   "execution_count": 14,
   "metadata": {
    "collapsed": true
   },
   "outputs": [],
   "source": [
    "df.drop(columns=['id'], inplace=True)"
   ]
  },
  {
   "cell_type": "code",
   "execution_count": 15,
   "metadata": {
    "collapsed": true
   },
   "outputs": [],
   "source": [
    "def encode_target(df, target_column):\n",
    "    \"\"\"Add column to df with integers for the target.\n",
    "\n",
    "    Args\n",
    "    ----\n",
    "    df -- pandas DataFrame.\n",
    "    target_column -- column to map to int, producing\n",
    "                     new Target column.\n",
    "\n",
    "    Returns\n",
    "    -------\n",
    "    df_mod -- modified DataFrame.\n",
    "    targets -- list of target names.\n",
    "    \"\"\"\n",
    "    df_mod = df.copy()\n",
    "    targets = df_mod[target_column].unique()\n",
    "    map_to_int = {name: n for n, name in enumerate(targets)}\n",
    "    df_mod[\"Target\"] = df_mod[target_column].replace(map_to_int)\n",
    "\n",
    "    return (df_mod, targets)"
   ]
  },
  {
   "cell_type": "code",
   "execution_count": 16,
   "metadata": {},
   "outputs": [
    {
     "name": "stdout",
     "output_type": "stream",
     "text": [
      "* df2.head()\n",
      "   Target                species\n",
      "0       0            Acer_Opalus\n",
      "1       1  Pterocarya_Stenoptera\n",
      "2       2   Quercus_Hartwissiana\n",
      "3       3        Tilia_Tomentosa\n",
      "4       4     Quercus_Variabilis\n",
      "\n",
      "* df2.tail()\n",
      "     Target               species\n",
      "985       5  Magnolia_Salicifolia\n",
      "986      57           Acer_Pictum\n",
      "987      55    Alnus_Maximowiczii\n",
      "988       7         Quercus_Rubra\n",
      "989      13        Quercus_Afares\n",
      "\n"
     ]
    }
   ],
   "source": [
    "df2, targets = encode_target(df, \"species\")\n",
    "print(\"* df2.head()\", df2[[\"Target\", \"species\"]].head(),\n",
    "      sep=\"\\n\", end=\"\\n\\n\")\n",
    "print(\"* df2.tail()\", df2[[\"Target\", \"species\"]].tail(),\n",
    "      sep=\"\\n\", end=\"\\n\\n\")\n",
    "#print(\"* targets\", targets, sep=\"\\n\", end=\"\\n\\n\")"
   ]
  },
  {
   "cell_type": "code",
   "execution_count": 257,
   "metadata": {
    "collapsed": true
   },
   "outputs": [],
   "source": [
    "#df2"
   ]
  },
  {
   "cell_type": "code",
   "execution_count": 258,
   "metadata": {
    "collapsed": true
   },
   "outputs": [],
   "source": [
    "features = list(df.columns[1:])\n",
    "#print(\"* features:\", features, sep=\"\\n\")"
   ]
  },
  {
   "cell_type": "code",
   "execution_count": 259,
   "metadata": {
    "collapsed": true
   },
   "outputs": [],
   "source": [
    "y = df2[\"Target\"]\n",
    "X = df2[features]\n",
    "X_train, X_test, y_train, y_test = train_test_split(df2, y, test_size=0.3)\n",
    "df_train = X_train.copy()"
   ]
  },
  {
   "cell_type": "code",
   "execution_count": 260,
   "metadata": {
    "collapsed": true
   },
   "outputs": [],
   "source": [
    "#print(X_train.shape, y_train.shape)\n",
    "#print(X_test.shape, y_test.shape)"
   ]
  },
  {
   "cell_type": "code",
   "execution_count": 261,
   "metadata": {
    "collapsed": true
   },
   "outputs": [],
   "source": [
    "del X_train['species']\n",
    "del X_train['Target']\n",
    "del df_train['species']"
   ]
  },
  {
   "cell_type": "code",
   "execution_count": 262,
   "metadata": {
    "collapsed": true
   },
   "outputs": [],
   "source": [
    "#df_train.head()"
   ]
  },
  {
   "cell_type": "code",
   "execution_count": 263,
   "metadata": {
    "collapsed": true
   },
   "outputs": [],
   "source": [
    "#X_train.head()"
   ]
  },
  {
   "cell_type": "code",
   "execution_count": 264,
   "metadata": {
    "collapsed": true
   },
   "outputs": [],
   "source": [
    "#X_train.shape"
   ]
  },
  {
   "cell_type": "code",
   "execution_count": 265,
   "metadata": {},
   "outputs": [
    {
     "data": {
      "text/plain": [
       "DecisionTreeClassifier(class_weight=None, criterion='gini', max_depth=None,\n",
       "            max_features=None, max_leaf_nodes=None,\n",
       "            min_impurity_decrease=0.0, min_impurity_split=None,\n",
       "            min_samples_leaf=1, min_samples_split=2,\n",
       "            min_weight_fraction_leaf=0.0, presort=False, random_state=None,\n",
       "            splitter='best')"
      ]
     },
     "execution_count": 265,
     "metadata": {},
     "output_type": "execute_result"
    }
   ],
   "source": [
    "dt = DecisionTreeClassifier()\n",
    "#lm = linear_model.LinearRegression()\n",
    "#model = lm.fit(X_train, y_train)\n",
    "dt.fit(X_train, y_train)"
   ]
  },
  {
   "cell_type": "code",
   "execution_count": 266,
   "metadata": {
    "collapsed": true
   },
   "outputs": [],
   "source": [
    "def visualize_tree(tree, feature_names):\n",
    "    \"\"\"Create tree png using graphviz.\n",
    "\n",
    "    Args\n",
    "    ----\n",
    "    tree -- scikit-learn DecsisionTree.\n",
    "    feature_names -- list of feature names.\n",
    "    \"\"\"\n",
    "    with open(\"dt.dot\", 'w') as f:\n",
    "        export_graphviz(tree, out_file=f,\n",
    "                        feature_names=feature_names)\n",
    "\n",
    "    command = [\"dot\", \"-Tpng\", \"dt.dot\", \"-o\", \"Leafdt.png\"]\n",
    "    try:\n",
    "        subprocess.check_call(command)\n",
    "    except:\n",
    "        exit(\"Could not run dot, ie graphviz, to \"\n",
    "             \"produce visualization\")"
   ]
  },
  {
   "cell_type": "code",
   "execution_count": 267,
   "metadata": {
    "collapsed": true
   },
   "outputs": [],
   "source": [
    "visualize_tree(dt, features)"
   ]
  },
  {
   "cell_type": "code",
   "execution_count": 268,
   "metadata": {
    "collapsed": true
   },
   "outputs": [],
   "source": [
    "del X_test['species']\n",
    "del X_test[\"Target\"]"
   ]
  },
  {
   "cell_type": "code",
   "execution_count": 269,
   "metadata": {
    "collapsed": true
   },
   "outputs": [],
   "source": [
    "predictions = dt.predict(X_test)"
   ]
  },
  {
   "cell_type": "code",
   "execution_count": 270,
   "metadata": {
    "collapsed": true
   },
   "outputs": [],
   "source": [
    "#predictions[0:5]"
   ]
  },
  {
   "cell_type": "code",
   "execution_count": 271,
   "metadata": {},
   "outputs": [
    {
     "data": {
      "text/plain": [
       "0.5757575757575758"
      ]
     },
     "execution_count": 271,
     "metadata": {},
     "output_type": "execute_result"
    }
   ],
   "source": [
    "dt.score(X_test, y_test)"
   ]
  },
  {
   "cell_type": "code",
   "execution_count": 272,
   "metadata": {
    "collapsed": true
   },
   "outputs": [],
   "source": [
    "trainscore = []\n",
    "for i in range(2, 100):\n",
    "    dtest = DecisionTreeClassifier(min_samples_split=2, max_depth=i, random_state=99)\n",
    "    dtest.fit(X_train, y_train)\n",
    "    trainscore.append((i, dtest.score(X_train, y_train)))\n",
    "    \n",
    "testscore = []\n",
    "for i in range(2, 100):\n",
    "    dtest = DecisionTreeClassifier(min_samples_split=2, max_depth=i, random_state=99)\n",
    "    dtest.fit(X_train, y_train)\n",
    "    testscore.append((i, dtest.score(X_test, y_test)))\n",
    "#lm = linear_model.LinearRegression()\n",
    "#model = lm.fit(X_train, y_train)\n",
    "#dt.fit(X_train, y_train)"
   ]
  },
  {
   "cell_type": "code",
   "execution_count": 273,
   "metadata": {},
   "outputs": [
    {
     "data": {
      "image/png": "[encoded data removed]",
      "text/plain": [
       "<matplotlib.figure.Figure at 0x111fd6198>"
      ]
     },
     "metadata": {},
     "output_type": "display_data"
    }
   ],
   "source": [
    "#plt.plot(score)\n",
    "x_val = [x[0] for x in trainscore]\n",
    "y_val = [x[1] for x in trainscore]\n",
    "\n",
    "#print x_val\n",
    "#plt.figure()\n",
    "\n",
    "plt.title(\"Decision Tree Depth Accuracy - Leaf\")\n",
    "plt.xlabel(\"Max Depth\")\n",
    "plt.ylabel(\"Accuracy\")\n",
    "plt.plot(x_val,y_val, label='Train')\n",
    "\n",
    "x_val_test = [x[0] for x in testscore]\n",
    "y_val_test = [x[1] for x in testscore]\n",
    "plt.plot(x_val_test, y_val_test, label='Test')\n",
    "plt.legend()\n",
    "plt.savefig(\"Decision Tree Max Depth - Leaf\")\n",
    "#plt.plot(x_val,y_val,'or')\n",
    "#plt.show()"
   ]
  },
  {
   "cell_type": "code",
   "execution_count": 274,
   "metadata": {
    "collapsed": true
   },
   "outputs": [],
   "source": [
    "trainscore = []\n",
    "for i in range(2, 100):\n",
    "    dtest = DecisionTreeClassifier(min_samples_split=i, max_depth=100, random_state=99)\n",
    "    dtest.fit(X_train, y_train)\n",
    "    trainscore.append((i, dtest.score(X_train, y_train)))\n",
    "\n",
    "testscore = []\n",
    "for i in range(2, 100):\n",
    "    dtest = DecisionTreeClassifier(min_samples_split=i, max_depth=100, random_state=99)\n",
    "    dtest.fit(X_train, y_train)\n",
    "    testscore.append((i, dtest.score(X_test, y_test)))\n",
    "    "
   ]
  },
  {
   "cell_type": "code",
   "execution_count": 275,
   "metadata": {},
   "outputs": [
    {
     "data": {
      "image/png": "[encoded data removed]",
      "text/plain": [
       "<matplotlib.figure.Figure at 0x110916fd0>"
      ]
     },
     "metadata": {},
     "output_type": "display_data"
    }
   ],
   "source": [
    "#plt.plot(score)\n",
    "x_val = [x[0] for x in trainscore]\n",
    "y_val = [x[1] for x in trainscore]\n",
    "\n",
    "#print x_val\n",
    "#plt.figure()\n",
    "\n",
    "plt.title(\"Decision Tree Min Split Accuracy - Leaf\")\n",
    "plt.xlabel(\"Min Split\")\n",
    "plt.ylabel(\"Accuracy\")\n",
    "plt.plot(x_val,y_val, label='Train')\n",
    "x_val_test = [x[0] for x in testscore]\n",
    "y_val_test = [x[1] for x in testscore]\n",
    "plt.plot(x_val_test, y_val_test, label='Test')\n",
    "plt.legend()\n",
    "\n",
    "plt.savefig(\"Decision Tree Min Split - Leaf\")\n",
    "#plt.plot(x_val,y_val,'or')\n",
    "#plt.show()"
   ]
  },
  {
   "cell_type": "code",
   "execution_count": 276,
   "metadata": {},
   "outputs": [
    {
     "name": "stderr",
     "output_type": "stream",
     "text": [
      "/Users/abhisheksoni/anaconda3/lib/python3.6/site-packages/sklearn/model_selection/_split.py:605: Warning: The least populated class in y has only 2 members, which is too few. The minimum number of members in any class cannot be less than n_splits=3.\n",
      "  % (min_groups, self.n_splits)), Warning)\n"
     ]
    },
    {
     "data": {
      "text/plain": [
       "GridSearchCV(cv=3, error_score='raise',\n",
       "       estimator=DecisionTreeClassifier(class_weight=None, criterion='gini', max_depth=None,\n",
       "            max_features=None, max_leaf_nodes=None,\n",
       "            min_impurity_decrease=0.0, min_impurity_split=None,\n",
       "            min_samples_leaf=1, min_samples_split=2,\n",
       "            min_weight_fraction_leaf=0.0, presort=False, random_state=None,\n",
       "            splitter='best'),\n",
       "       fit_params=None, iid=True, n_jobs=1,\n",
       "       param_grid={'max_depth': [1, 5, 10, 20, 100], 'min_samples_split': [10, 20, 100]},\n",
       "       pre_dispatch='2*n_jobs', refit=True, return_train_score='warn',\n",
       "       scoring=None, verbose=0)"
      ]
     },
     "execution_count": 276,
     "metadata": {},
     "output_type": "execute_result"
    }
   ],
   "source": [
    "parameters = {'max_depth':[1,5,10,20, 100], 'min_samples_split':[10, 20,100]}\n",
    "dtc = DecisionTreeClassifier()\n",
    "dtclf = GridSearchCV(dtc, parameters, cv=3)\n",
    "dtclf.fit(X_train, y_train)"
   ]
  },
  {
   "cell_type": "code",
   "execution_count": 277,
   "metadata": {},
   "outputs": [
    {
     "data": {
      "text/plain": [
       "3"
      ]
     },
     "execution_count": 277,
     "metadata": {},
     "output_type": "execute_result"
    }
   ],
   "source": [
    "dtclf.n_splits_"
   ]
  },
  {
   "cell_type": "code",
   "execution_count": 278,
   "metadata": {},
   "outputs": [
    {
     "data": {
      "text/plain": [
       "DecisionTreeClassifier(class_weight=None, criterion='gini', max_depth=100,\n",
       "            max_features=None, max_leaf_nodes=None,\n",
       "            min_impurity_decrease=0.0, min_impurity_split=None,\n",
       "            min_samples_leaf=1, min_samples_split=10,\n",
       "            min_weight_fraction_leaf=0.0, presort=False, random_state=None,\n",
       "            splitter='best')"
      ]
     },
     "execution_count": 278,
     "metadata": {},
     "output_type": "execute_result"
    }
   ],
   "source": [
    "dtclf.best_estimator_"
   ]
  },
  {
   "cell_type": "code",
   "execution_count": 279,
   "metadata": {},
   "outputs": [
    {
     "data": {
      "text/plain": [
       "0.49927849927849927"
      ]
     },
     "execution_count": 279,
     "metadata": {},
     "output_type": "execute_result"
    }
   ],
   "source": [
    "dtclf.best_score_"
   ]
  },
  {
   "cell_type": "code",
   "execution_count": 280,
   "metadata": {
    "collapsed": true
   },
   "outputs": [],
   "source": [
    "dt_best = dtclf.best_estimator_"
   ]
  },
  {
   "cell_type": "code",
   "execution_count": 281,
   "metadata": {},
   "outputs": [
    {
     "name": "stdout",
     "output_type": "stream",
     "text": [
      "252 ms ± 7.84 ms per loop (mean ± std. dev. of 7 runs, 1 loop each)\n"
     ]
    }
   ],
   "source": [
    "%%timeit\n",
    "dt_best.fit(X_train, y_train)"
   ]
  },
  {
   "cell_type": "code",
   "execution_count": 282,
   "metadata": {},
   "outputs": [
    {
     "name": "stdout",
     "output_type": "stream",
     "text": [
      "568 µs ± 58.5 µs per loop (mean ± std. dev. of 7 runs, 1000 loops each)\n"
     ]
    }
   ],
   "source": [
    "%%timeit\n",
    "dt_best.score(X_test, y_test)"
   ]
  },
  {
   "cell_type": "code",
   "execution_count": 283,
   "metadata": {},
   "outputs": [
    {
     "data": {
      "text/plain": [
       "0.5353535353535354"
      ]
     },
     "execution_count": 283,
     "metadata": {},
     "output_type": "execute_result"
    }
   ],
   "source": [
    "dt_best.score(X_test, y_test)"
   ]
  },
  {
   "cell_type": "code",
   "execution_count": 284,
   "metadata": {
    "collapsed": true
   },
   "outputs": [],
   "source": [
    "dt_train_error = []\n",
    "dt_test_error = []\n",
    "for i in range(1, 10):\n",
    "    X_train_dt, X_test_dt, y_train_dt, y_test_dt = train_test_split(df_train, y_train, test_size=i/10.0)\n",
    "   # print(\"Train shape\", X_train_dt.shape)\n",
    "  #  print(\"Test shape\", X_test.shape)\n",
    "    del X_train_dt[\"Target\"]\n",
    "    dt_best.fit(X_train_dt, y_train_dt)\n",
    "   # print(\"Accuracy\", dt_best.score(X_train_dt, y_train_dt))\n",
    "    dt_train_error.append((X_train_dt.shape[0], 1.0 - dt_best.score(X_train_dt, y_train_dt)))\n",
    "    dt_test_error.append((X_train_dt.shape[0], 1.0 - dt_best.score(X_test, y_test)))"
   ]
  },
  {
   "cell_type": "code",
   "execution_count": 285,
   "metadata": {
    "collapsed": true
   },
   "outputs": [],
   "source": [
    "#training_size = [0.72, 0.64, 0.56, 0.48, 0.40, 0.32, 0.24, 0.16, 0.08]"
   ]
  },
  {
   "cell_type": "code",
   "execution_count": 286,
   "metadata": {},
   "outputs": [
    {
     "data": {
      "text/plain": [
       "[(623, 0.1268057784911717),\n",
       " (554, 0.14440433212996395),\n",
       " (485, 0.17319587628865984),\n",
       " (415, 0.19759036144578312),\n",
       " (346, 0.26300578034682076),\n",
       " (277, 0.3321299638989169),\n",
       " (207, 0.2995169082125604),\n",
       " (138, 0.33333333333333337),\n",
       " (69, 0.4347826086956522)]"
      ]
     },
     "execution_count": 286,
     "metadata": {},
     "output_type": "execute_result"
    }
   ],
   "source": [
    "dt_train_error"
   ]
  },
  {
   "cell_type": "code",
   "execution_count": 287,
   "metadata": {},
   "outputs": [
    {
     "data": {
      "text/plain": [
       "[(623, 0.5252525252525253),\n",
       " (554, 0.5454545454545454),\n",
       " (485, 0.5353535353535354),\n",
       " (415, 0.67003367003367),\n",
       " (346, 0.7037037037037037),\n",
       " (277, 0.7744107744107744),\n",
       " (207, 0.797979797979798),\n",
       " (138, 0.8552188552188552),\n",
       " (69, 0.9259259259259259)]"
      ]
     },
     "execution_count": 287,
     "metadata": {},
     "output_type": "execute_result"
    }
   ],
   "source": [
    "dt_test_error"
   ]
  },
  {
   "cell_type": "code",
   "execution_count": 288,
   "metadata": {},
   "outputs": [
    {
     "data": {
      "image/png": "[encoded data removed]",
      "text/plain": [
       "<matplotlib.figure.Figure at 0x113da06d8>"
      ]
     },
     "metadata": {},
     "output_type": "display_data"
    }
   ],
   "source": [
    "x_val = [x[0] for x in dt_train_error]\n",
    "y_val = [x[1] for x in dt_train_error]\n",
    "\n",
    "#print x_val\n",
    "#plt.figure()\n",
    "\n",
    "plt.title(\"Decision Tree Learning Curve - Leaf Classification\")\n",
    "plt.xlabel(\"Training examples\")\n",
    "plt.ylabel(\"Error\")\n",
    "plt.plot(x_val,y_val, label='Train')\n",
    "plt.plot(x_val,y_val,'or')\n",
    "#plt.show()\n",
    "\n",
    "x_val_test = [x[0] for x in dt_test_error]\n",
    "y_val_test = [x[1] for x in dt_test_error]\n",
    "\n",
    "plt.plot(x_val_test,y_val_test, label='Test')\n",
    "plt.plot(x_val_test,y_val_test,'or')\n",
    "plt.legend()\n",
    "plt.savefig(\"Leaf DT Learning Curve\")\n",
    "#plt.show()\n",
    "#plt.plot(dt_train_error)\n",
    "#plt.plot(dt_test_error)"
   ]
  },
  {
   "cell_type": "code",
   "execution_count": 289,
   "metadata": {},
   "outputs": [
    {
     "data": {
      "text/plain": [
       "KNeighborsClassifier(algorithm='auto', leaf_size=30, metric='minkowski',\n",
       "           metric_params=None, n_jobs=1, n_neighbors=5, p=2,\n",
       "           weights='uniform')"
      ]
     },
     "execution_count": 289,
     "metadata": {},
     "output_type": "execute_result"
    }
   ],
   "source": [
    "knn = KNeighborsClassifier()\n",
    "knn.fit(X_train, y_train) "
   ]
  },
  {
   "cell_type": "code",
   "execution_count": 290,
   "metadata": {
    "collapsed": true
   },
   "outputs": [],
   "source": [
    "knnPredictions = knn.predict(X_test)"
   ]
  },
  {
   "cell_type": "code",
   "execution_count": 291,
   "metadata": {},
   "outputs": [
    {
     "data": {
      "text/plain": [
       "array([79, 63, 42, 21, 94])"
      ]
     },
     "execution_count": 291,
     "metadata": {},
     "output_type": "execute_result"
    }
   ],
   "source": [
    "knnPredictions[0:5]"
   ]
  },
  {
   "cell_type": "code",
   "execution_count": 292,
   "metadata": {},
   "outputs": [
    {
     "data": {
      "text/plain": [
       "0.8047138047138047"
      ]
     },
     "execution_count": 292,
     "metadata": {},
     "output_type": "execute_result"
    }
   ],
   "source": [
    "knn.score(X_test, y_test)"
   ]
  },
  {
   "cell_type": "code",
   "execution_count": 293,
   "metadata": {
    "collapsed": true
   },
   "outputs": [],
   "source": [
    "score = []\n",
    "for i in range(2, 100):\n",
    "    knntest = KNeighborsClassifier(n_neighbors=i)\n",
    "    knntest.fit(X_train, y_train)\n",
    "    score.append((i, knntest.score(X_train, y_train)))\n",
    "    \n",
    "testscore = []\n",
    "for i in range(2, 100):\n",
    "    knntest = KNeighborsClassifier(n_neighbors=i)\n",
    "    knntest.fit(X_train, y_train)\n",
    "    testscore.append((i, knntest.score(X_test, y_test)))\n",
    "#lm = linear_model.LinearRegression()\n",
    "#model = lm.fit(X_train, y_train)\n",
    "#dt.fit(X_train, y_train)"
   ]
  },
  {
   "cell_type": "code",
   "execution_count": 294,
   "metadata": {},
   "outputs": [
    {
     "data": {
      "image/png": "[encoded data removed]",
      "text/plain": [
       "<matplotlib.figure.Figure at 0x1118c5e80>"
      ]
     },
     "metadata": {},
     "output_type": "display_data"
    }
   ],
   "source": [
    "x_val = [x[0] for x in score]\n",
    "y_val = [x[1] for x in score]\n",
    "\n",
    "#print x_val\n",
    "#plt.figure()\n",
    "\n",
    "plt.title(\"k Nearest Neighbors Accuracy - Leaf\")\n",
    "plt.xlabel(\"k\")\n",
    "plt.ylabel(\"Accuracy\")\n",
    "plt.plot(x_val,y_val, label=\"Train\")\n",
    "\n",
    "\n",
    "x_val_test = [x[0] for x in testscore]\n",
    "y_val_test = [x[1] for x in testscore]\n",
    "plt.plot(x_val_test, y_val_test, label='Test')\n",
    "plt.legend()\n",
    "plt.savefig(\"k Nearest Neighbors Leaf Size - Leaf\")\n",
    "#plt.plot(x_val,y_val,'or')\n",
    "#plt.show()\n",
    "\n",
    "#plt.plot(score)"
   ]
  },
  {
   "cell_type": "code",
   "execution_count": 295,
   "metadata": {},
   "outputs": [
    {
     "name": "stderr",
     "output_type": "stream",
     "text": [
      "/Users/abhisheksoni/anaconda3/lib/python3.6/site-packages/sklearn/model_selection/_split.py:605: Warning: The least populated class in y has only 2 members, which is too few. The minimum number of members in any class cannot be less than n_splits=3.\n",
      "  % (min_groups, self.n_splits)), Warning)\n"
     ]
    },
    {
     "data": {
      "text/plain": [
       "GridSearchCV(cv=3, error_score='raise',\n",
       "       estimator=KNeighborsClassifier(algorithm='auto', leaf_size=30, metric='minkowski',\n",
       "           metric_params=None, n_jobs=1, n_neighbors=5, p=2,\n",
       "           weights='uniform'),\n",
       "       fit_params=None, iid=True, n_jobs=1,\n",
       "       param_grid={'metric': ('euclidean', 'minkowski'), 'n_neighbors': [2, 3, 5, 10]},\n",
       "       pre_dispatch='2*n_jobs', refit=True, return_train_score='warn',\n",
       "       scoring=None, verbose=0)"
      ]
     },
     "execution_count": 295,
     "metadata": {},
     "output_type": "execute_result"
    }
   ],
   "source": [
    "knnParameters = {'metric':('euclidean', 'minkowski'), 'n_neighbors':[2, 3, 5, 10]}\n",
    "knnc = KNeighborsClassifier()\n",
    "knnclf = GridSearchCV(knnc, knnParameters, cv=3)\n",
    "knnclf.fit(X_train, y_train)"
   ]
  },
  {
   "cell_type": "code",
   "execution_count": 296,
   "metadata": {},
   "outputs": [
    {
     "data": {
      "text/plain": [
       "3"
      ]
     },
     "execution_count": 296,
     "metadata": {},
     "output_type": "execute_result"
    }
   ],
   "source": [
    "knnclf.n_splits_"
   ]
  },
  {
   "cell_type": "code",
   "execution_count": 297,
   "metadata": {},
   "outputs": [
    {
     "data": {
      "text/plain": [
       "KNeighborsClassifier(algorithm='auto', leaf_size=30, metric='euclidean',\n",
       "           metric_params=None, n_jobs=1, n_neighbors=3, p=2,\n",
       "           weights='uniform')"
      ]
     },
     "execution_count": 297,
     "metadata": {},
     "output_type": "execute_result"
    }
   ],
   "source": [
    "knnclf.best_estimator_"
   ]
  },
  {
   "cell_type": "code",
   "execution_count": 298,
   "metadata": {},
   "outputs": [
    {
     "data": {
      "text/plain": [
       "0.810966810966811"
      ]
     },
     "execution_count": 298,
     "metadata": {},
     "output_type": "execute_result"
    }
   ],
   "source": [
    "knnclf.best_score_"
   ]
  },
  {
   "cell_type": "code",
   "execution_count": 299,
   "metadata": {
    "collapsed": true
   },
   "outputs": [],
   "source": [
    "knn_best = knnclf.best_estimator_"
   ]
  },
  {
   "cell_type": "code",
   "execution_count": 300,
   "metadata": {},
   "outputs": [
    {
     "name": "stdout",
     "output_type": "stream",
     "text": [
      "3.73 ms ± 177 µs per loop (mean ± std. dev. of 7 runs, 100 loops each)\n"
     ]
    }
   ],
   "source": [
    "%%timeit\n",
    "knn_best.fit(X_train, y_train)"
   ]
  },
  {
   "cell_type": "code",
   "execution_count": 301,
   "metadata": {},
   "outputs": [
    {
     "name": "stdout",
     "output_type": "stream",
     "text": [
      "58.3 ms ± 3.9 ms per loop (mean ± std. dev. of 7 runs, 10 loops each)\n"
     ]
    }
   ],
   "source": [
    "%%timeit\n",
    "knn_best.score(X_test, y_test)"
   ]
  },
  {
   "cell_type": "code",
   "execution_count": 302,
   "metadata": {
    "collapsed": true
   },
   "outputs": [],
   "source": [
    "knn_train_error = []\n",
    "knn_test_error = []\n",
    "for i in range(1, 10):\n",
    "    X_train_knn, X_test_knn, y_train_knn, y_test_knn = train_test_split(df_train, y_train, test_size=i/10.0)\n",
    "    #print(X_test_dt.shape)\n",
    "    del X_train_knn[\"Target\"]\n",
    "    knn_best.fit(X_train_knn, y_train_knn)\n",
    "   # print(\"test size is \", i/10.0)\n",
    "    knn_train_error.append((X_train_knn.shape[0], 1.0 - knn_best.score(X_train_knn, y_train_knn)))\n",
    "    knn_test_error.append((X_train_knn.shape[0], 1.0 - knn_best.score(X_test, y_test)))\n",
    "  #  print(\"scores are \", knn_train_score[i-1], knn_test_score[i-1])"
   ]
  },
  {
   "cell_type": "code",
   "execution_count": 303,
   "metadata": {
    "collapsed": true
   },
   "outputs": [],
   "source": [
    "#knn_train_error"
   ]
  },
  {
   "cell_type": "code",
   "execution_count": 304,
   "metadata": {
    "collapsed": true
   },
   "outputs": [],
   "source": [
    "#knn_test_error"
   ]
  },
  {
   "cell_type": "code",
   "execution_count": 305,
   "metadata": {},
   "outputs": [
    {
     "data": {
      "image/png": "[encoded data removed]",
      "text/plain": [
       "<matplotlib.figure.Figure at 0x1110adba8>"
      ]
     },
     "metadata": {},
     "output_type": "display_data"
    }
   ],
   "source": [
    "x_val = [x[0] for x in knn_train_error]\n",
    "y_val = [x[1] for x in knn_train_error]\n",
    "\n",
    "#print x_val\n",
    "#plt.figure()\n",
    "\n",
    "plt.title(\"kNN Learning Curve - Leaf Classification\")\n",
    "plt.xlabel(\"Training examples\")\n",
    "plt.ylabel(\"Error\")\n",
    "plt.plot(x_val,y_val, label='Train')\n",
    "plt.plot(x_val,y_val,'or')\n",
    "#plt.show()\n",
    "\n",
    "x_val_test = [x[0] for x in knn_test_error]\n",
    "y_val_test = [x[1] for x in knn_test_error]\n",
    "\n",
    "plt.plot(x_val_test,y_val_test, label='Test')\n",
    "plt.plot(x_val_test,y_val_test,'or')\n",
    "plt.legend()\n",
    "plt.savefig(\"Leaf kNN Learning Curve\")\n",
    "#plt.show()"
   ]
  },
  {
   "cell_type": "code",
   "execution_count": 306,
   "metadata": {},
   "outputs": [
    {
     "name": "stderr",
     "output_type": "stream",
     "text": [
      "/Users/abhisheksoni/anaconda3/lib/python3.6/site-packages/sklearn/neural_network/multilayer_perceptron.py:564: ConvergenceWarning: Stochastic Optimizer: Maximum iterations (200) reached and the optimization hasn't converged yet.\n",
      "  % self.max_iter, ConvergenceWarning)\n"
     ]
    },
    {
     "data": {
      "text/plain": [
       "MLPClassifier(activation='relu', alpha=0.0001, batch_size='auto', beta_1=0.9,\n",
       "       beta_2=0.999, early_stopping=False, epsilon=1e-08,\n",
       "       hidden_layer_sizes=(100,), learning_rate='constant',\n",
       "       learning_rate_init=0.001, max_iter=200, momentum=0.9,\n",
       "       nesterovs_momentum=True, power_t=0.5, random_state=None,\n",
       "       shuffle=True, solver='adam', tol=0.0001, validation_fraction=0.1,\n",
       "       verbose=False, warm_start=False)"
      ]
     },
     "execution_count": 306,
     "metadata": {},
     "output_type": "execute_result"
    }
   ],
   "source": [
    "nn = MLPClassifier()\n",
    "nn.fit(X_train, y_train)"
   ]
  },
  {
   "cell_type": "code",
   "execution_count": 307,
   "metadata": {
    "collapsed": true
   },
   "outputs": [],
   "source": [
    "nnPredictions = nn.predict(X_test)"
   ]
  },
  {
   "cell_type": "code",
   "execution_count": 308,
   "metadata": {},
   "outputs": [
    {
     "data": {
      "text/plain": [
       "0.7878787878787878"
      ]
     },
     "execution_count": 308,
     "metadata": {},
     "output_type": "execute_result"
    }
   ],
   "source": [
    "nn.score(X_test, y_test)"
   ]
  },
  {
   "cell_type": "code",
   "execution_count": 309,
   "metadata": {
    "collapsed": true
   },
   "outputs": [],
   "source": [
    "nnIterscore = []\n",
    "for i in range(10, 300, 10):\n",
    "    nntest = MLPClassifier(solver='lbfgs', alpha=1e-5,\n",
    "                    hidden_layer_sizes=(40,40), max_iter = i, random_state=1)\n",
    "    nntest.fit(X_train, y_train)\n",
    "    nnIterscore.append((i, nntest.score(X_train, y_train)))\n",
    "    \n",
    "nnIterscoretest = []\n",
    "for i in range(10, 300, 10):\n",
    "    nntest = MLPClassifier(solver='lbfgs', alpha=1e-5,\n",
    "                    hidden_layer_sizes=(40,40), max_iter = i, random_state=1)\n",
    "    nntest.fit(X_train, y_train)\n",
    "    nnIterscoretest.append((i, nntest.score(X_test, y_test)))"
   ]
  },
  {
   "cell_type": "code",
   "execution_count": 310,
   "metadata": {
    "collapsed": true
   },
   "outputs": [],
   "source": [
    "#nnIterscore"
   ]
  },
  {
   "cell_type": "code",
   "execution_count": 311,
   "metadata": {},
   "outputs": [
    {
     "data": {
      "image/png": "[encoded data removed]",
      "text/plain": [
       "<matplotlib.figure.Figure at 0x111150e10>"
      ]
     },
     "metadata": {},
     "output_type": "display_data"
    }
   ],
   "source": [
    "x_val = [x[0] for x in nnIterscore]\n",
    "y_val = [x[1] for x in nnIterscore]\n",
    "\n",
    "#print x_val\n",
    "#plt.figure()\n",
    "\n",
    "plt.title(\"Neural Networks Iterations Accuracy - Leaf\")\n",
    "plt.xlabel(\"Iterations\")\n",
    "plt.ylabel(\"Accuracy\")\n",
    "plt.plot(x_val,y_val, label=\"Train\")\n",
    "\n",
    "x_val_test = [x[0] for x in nnIterscoretest]\n",
    "y_val_test = [x[1] for x in nnIterscoretest]\n",
    "plt.plot(x_val_test,y_val_test, label=\"Test\")\n",
    "plt.legend()\n",
    "plt.savefig(\"Neural Networks Iterations Accuracy - Leaf\")\n",
    "#plt.plot(x_val,y_val,'or')\n",
    "#plt.show()"
   ]
  },
  {
   "cell_type": "code",
   "execution_count": 312,
   "metadata": {
    "collapsed": true
   },
   "outputs": [],
   "source": [
    "score = []\n",
    "elements = 5\n",
    "for i in range(1, 11):\n",
    "    size = (50, )*i\n",
    "    #print(\"size, \", size)\n",
    "    nntest = MLPClassifier(solver='lbfgs', alpha=1e-5,\n",
    "                    hidden_layer_sizes=size, random_state=1)\n",
    "    nntest.fit(X_train, y_train)\n",
    "    score.append((i, nntest.score(X_train, y_train)))\n",
    "    \n",
    "testscore = []\n",
    "for i in range(1, 11):\n",
    "    size = (50, )*i\n",
    "    #print(\"size, \", size)\n",
    "    nntest = MLPClassifier(solver='lbfgs', alpha=1e-5,\n",
    "                    hidden_layer_sizes=size, random_state=1)\n",
    "    nntest.fit(X_train, y_train)\n",
    "    testscore.append((i, nntest.score(X_test, y_test)))\n",
    "#lm = linear_model.LinearRegression()\n",
    "#model = lm.fit(X_train, y_train)\n",
    "#dt.fit(X_train, y_train)"
   ]
  },
  {
   "cell_type": "code",
   "execution_count": 313,
   "metadata": {
    "collapsed": true
   },
   "outputs": [],
   "source": [
    "#score"
   ]
  },
  {
   "cell_type": "code",
   "execution_count": 314,
   "metadata": {},
   "outputs": [
    {
     "data": {
      "image/png": "[encoded data removed]",
      "text/plain": [
       "<matplotlib.figure.Figure at 0x1133e43c8>"
      ]
     },
     "metadata": {},
     "output_type": "display_data"
    }
   ],
   "source": [
    "x_val = [x[0] for x in score]\n",
    "y_val = [x[1] for x in score]\n",
    "\n",
    "#print x_val\n",
    "#plt.figure()\n",
    "\n",
    "plt.title(\"Neural Networks Layers Accuracy - Leaf\")\n",
    "plt.xlabel(\"50 Element Layers\")\n",
    "plt.ylabel(\"Accuracy\")\n",
    "plt.plot(x_val,y_val, label=\"Train\")\n",
    "\n",
    "x_val_test = [x[0] for x in testscore]\n",
    "y_val_test = [x[1] for x in testscore]\n",
    "plt.plot(x_val_test, y_val_test, label=\"Test\")\n",
    "plt.legend()\n",
    "plt.savefig(\"Neural Networks Layers Accuracy - Leaf\")\n",
    "#plt.plot(x_val,y_val,'or')\n",
    "#plt.show()"
   ]
  },
  {
   "cell_type": "code",
   "execution_count": 315,
   "metadata": {},
   "outputs": [
    {
     "name": "stderr",
     "output_type": "stream",
     "text": [
      "/Users/abhisheksoni/anaconda3/lib/python3.6/site-packages/sklearn/model_selection/_split.py:605: Warning: The least populated class in y has only 2 members, which is too few. The minimum number of members in any class cannot be less than n_splits=3.\n",
      "  % (min_groups, self.n_splits)), Warning)\n"
     ]
    },
    {
     "data": {
      "text/plain": [
       "GridSearchCV(cv=3, error_score='raise',\n",
       "       estimator=MLPClassifier(activation='relu', alpha=1e-05, batch_size='auto', beta_1=0.9,\n",
       "       beta_2=0.999, early_stopping=False, epsilon=1e-08,\n",
       "       hidden_layer_sizes=(100,), learning_rate='constant',\n",
       "       learning_rate_init=0.001, max_iter=200, momentum=0.9,\n",
       "       nesterovs_momentum=True, power_t=0.5, random_state=1, shuffle=True,\n",
       "       solver='lbfgs', tol=0.0001, validation_fraction=0.1, verbose=False,\n",
       "       warm_start=False),\n",
       "       fit_params=None, iid=True, n_jobs=1,\n",
       "       param_grid={'activation': ('identity', 'logistic', 'tanh', 'relu'), 'hidden_layer_sizes': [(30, 30), (40, 40), (45, 45), (50, 50)]},\n",
       "       pre_dispatch='2*n_jobs', refit=True, return_train_score=True,\n",
       "       scoring=None, verbose=0)"
      ]
     },
     "execution_count": 315,
     "metadata": {},
     "output_type": "execute_result"
    }
   ],
   "source": [
    "parameters = {'activation':('identity', 'logistic', 'tanh', 'relu'), \n",
    "              'hidden_layer_sizes':[(30,30), (40, 40), (45,45), (50,50)]}\n",
    "nnc = nn = MLPClassifier(solver='lbfgs', alpha=1e-5, random_state=1)\n",
    "nnclf = GridSearchCV(nnc, parameters, cv=3, return_train_score = True)\n",
    "nnclf.fit(X_train, y_train)"
   ]
  },
  {
   "cell_type": "code",
   "execution_count": 316,
   "metadata": {},
   "outputs": [
    {
     "data": {
      "text/plain": [
       "3"
      ]
     },
     "execution_count": 316,
     "metadata": {},
     "output_type": "execute_result"
    }
   ],
   "source": [
    "nnclf.n_splits_"
   ]
  },
  {
   "cell_type": "code",
   "execution_count": 317,
   "metadata": {
    "collapsed": true
   },
   "outputs": [],
   "source": [
    "def report(results, n_top=10):\n",
    "    for i in range(1, n_top + 1):\n",
    "        candidates = np.flatnonzero(results['rank_test_score'] == i)\n",
    "        for candidate in candidates:\n",
    "            print(\"Model with rank: {0}\".format(i))\n",
    "            print(\"Mean validation score: {0:.3f} (std: {1:.3f})\".format(\n",
    "                  results['mean_test_score'][candidate],\n",
    "                  results['std_test_score'][candidate]))\n",
    "            print(\"Parameters: {0}\".format(results['params'][candidate]))\n",
    "            print(\"\")"
   ]
  },
  {
   "cell_type": "code",
   "execution_count": 318,
   "metadata": {},
   "outputs": [
    {
     "name": "stdout",
     "output_type": "stream",
     "text": [
      "Model with rank: 1\n",
      "Mean validation score: 0.776 (std: 0.023)\n",
      "Parameters: {'activation': 'identity', 'hidden_layer_sizes': (30, 30)}\n",
      "\n",
      "Model with rank: 1\n",
      "Mean validation score: 0.776 (std: 0.036)\n",
      "Parameters: {'activation': 'identity', 'hidden_layer_sizes': (50, 50)}\n",
      "\n",
      "Model with rank: 3\n",
      "Mean validation score: 0.750 (std: 0.017)\n",
      "Parameters: {'activation': 'identity', 'hidden_layer_sizes': (40, 40)}\n",
      "\n",
      "Model with rank: 4\n",
      "Mean validation score: 0.730 (std: 0.044)\n",
      "Parameters: {'activation': 'identity', 'hidden_layer_sizes': (45, 45)}\n",
      "\n",
      "Model with rank: 5\n",
      "Mean validation score: 0.706 (std: 0.027)\n",
      "Parameters: {'activation': 'relu', 'hidden_layer_sizes': (45, 45)}\n",
      "\n",
      "Model with rank: 6\n",
      "Mean validation score: 0.681 (std: 0.017)\n",
      "Parameters: {'activation': 'relu', 'hidden_layer_sizes': (50, 50)}\n",
      "\n",
      "Model with rank: 7\n",
      "Mean validation score: 0.677 (std: 0.021)\n",
      "Parameters: {'activation': 'relu', 'hidden_layer_sizes': (40, 40)}\n",
      "\n",
      "Model with rank: 8\n",
      "Mean validation score: 0.661 (std: 0.039)\n",
      "Parameters: {'activation': 'tanh', 'hidden_layer_sizes': (50, 50)}\n",
      "\n",
      "Model with rank: 9\n",
      "Mean validation score: 0.648 (std: 0.017)\n",
      "Parameters: {'activation': 'tanh', 'hidden_layer_sizes': (40, 40)}\n",
      "\n",
      "Model with rank: 10\n",
      "Mean validation score: 0.641 (std: 0.020)\n",
      "Parameters: {'activation': 'relu', 'hidden_layer_sizes': (30, 30)}\n",
      "\n"
     ]
    }
   ],
   "source": [
    "report(nnclf.cv_results_)"
   ]
  },
  {
   "cell_type": "code",
   "execution_count": 319,
   "metadata": {},
   "outputs": [
    {
     "data": {
      "text/plain": [
       "MLPClassifier(activation='identity', alpha=1e-05, batch_size='auto',\n",
       "       beta_1=0.9, beta_2=0.999, early_stopping=False, epsilon=1e-08,\n",
       "       hidden_layer_sizes=(30, 30), learning_rate='constant',\n",
       "       learning_rate_init=0.001, max_iter=200, momentum=0.9,\n",
       "       nesterovs_momentum=True, power_t=0.5, random_state=1, shuffle=True,\n",
       "       solver='lbfgs', tol=0.0001, validation_fraction=0.1, verbose=False,\n",
       "       warm_start=False)"
      ]
     },
     "execution_count": 319,
     "metadata": {},
     "output_type": "execute_result"
    }
   ],
   "source": [
    "nnclf.best_estimator_"
   ]
  },
  {
   "cell_type": "code",
   "execution_count": 320,
   "metadata": {},
   "outputs": [
    {
     "data": {
      "text/plain": [
       "0.7763347763347763"
      ]
     },
     "execution_count": 320,
     "metadata": {},
     "output_type": "execute_result"
    }
   ],
   "source": [
    "nnclf.best_score_"
   ]
  },
  {
   "cell_type": "code",
   "execution_count": 321,
   "metadata": {
    "collapsed": true
   },
   "outputs": [],
   "source": [
    "nn_best = nnclf.best_estimator_"
   ]
  },
  {
   "cell_type": "code",
   "execution_count": 322,
   "metadata": {},
   "outputs": [
    {
     "name": "stdout",
     "output_type": "stream",
     "text": [
      "1.02 s ± 166 ms per loop (mean ± std. dev. of 7 runs, 1 loop each)\n"
     ]
    }
   ],
   "source": [
    "%%timeit\n",
    "nn_best.fit(X_train, y_train)"
   ]
  },
  {
   "cell_type": "code",
   "execution_count": 323,
   "metadata": {},
   "outputs": [
    {
     "name": "stdout",
     "output_type": "stream",
     "text": [
      "1.51 ms ± 15.6 µs per loop (mean ± std. dev. of 7 runs, 100 loops each)\n"
     ]
    }
   ],
   "source": [
    "%%timeit\n",
    "nn_best.score(X_test, y_test)"
   ]
  },
  {
   "cell_type": "code",
   "execution_count": 324,
   "metadata": {
    "collapsed": true
   },
   "outputs": [],
   "source": [
    "nn_train_error = []\n",
    "nn_test_error = []\n",
    "for i in range(1, 10):\n",
    "    X_train_nn, X_test_nn, y_train_nn, y_test_nn = train_test_split(df_train, y_train, test_size=i/10.0)\n",
    "    #print(X_test_dt.shape)\n",
    "    del X_train_nn[\"Target\"]\n",
    "    nn_best.fit(X_train_nn, y_train_nn)\n",
    "   # print(\"test size is \", i/10.0)\n",
    "    nn_train_error.append((X_train_nn.shape[0], 1.0 - nn_best.score(X_train_nn, y_train_nn)))\n",
    "    nn_test_error.append((X_train_nn.shape[0], 1.0 - nn_best.score(X_test, y_test)))"
   ]
  },
  {
   "cell_type": "code",
   "execution_count": 325,
   "metadata": {
    "collapsed": true
   },
   "outputs": [],
   "source": [
    "#nn_train_error"
   ]
  },
  {
   "cell_type": "code",
   "execution_count": 326,
   "metadata": {
    "collapsed": true
   },
   "outputs": [],
   "source": [
    "#nn_test_error"
   ]
  },
  {
   "cell_type": "code",
   "execution_count": 327,
   "metadata": {},
   "outputs": [
    {
     "data": {
      "image/png": "[encoded data removed]",
      "text/plain": [
       "<matplotlib.figure.Figure at 0x113663780>"
      ]
     },
     "metadata": {},
     "output_type": "display_data"
    }
   ],
   "source": [
    "x_val = [x[0] for x in nn_train_error]\n",
    "y_val = [x[1] for x in nn_train_error]\n",
    "\n",
    "#print x_val\n",
    "#plt.figure()\n",
    "\n",
    "plt.title(\"Neural Network Learning Curve - Leaf Classification\")\n",
    "plt.xlabel(\"Training examples\")\n",
    "plt.ylabel(\"Error\")\n",
    "plt.plot(x_val,y_val, label=\"Train\")\n",
    "plt.plot(x_val,y_val,'or')\n",
    "#plt.show()\n",
    "\n",
    "x_val_test = [x[0] for x in nn_test_error]\n",
    "y_val_test = [x[1] for x in nn_test_error]\n",
    "\n",
    "plt.plot(x_val_test,y_val_test, label=\"Test\")\n",
    "plt.plot(x_val_test,y_val_test,'or')\n",
    "plt.legend()\n",
    "plt.savefig(\"Leaf Neural Network Learning Curve\")\n",
    "#plt.show()"
   ]
  },
  {
   "cell_type": "code",
   "execution_count": 328,
   "metadata": {},
   "outputs": [
    {
     "data": {
      "text/plain": [
       "SVC(C=1.0, cache_size=200, class_weight=None, coef0=0.0,\n",
       "  decision_function_shape='ovr', degree=3, gamma='auto', kernel='rbf',\n",
       "  max_iter=-1, probability=False, random_state=None, shrinking=True,\n",
       "  tol=0.001, verbose=False)"
      ]
     },
     "execution_count": 328,
     "metadata": {},
     "output_type": "execute_result"
    }
   ],
   "source": [
    "sv = svm.SVC()\n",
    "sv.fit(X_train, y_train)  "
   ]
  },
  {
   "cell_type": "code",
   "execution_count": 329,
   "metadata": {
    "collapsed": true
   },
   "outputs": [],
   "source": [
    "svmPredictions = sv.predict(X_test)"
   ]
  },
  {
   "cell_type": "code",
   "execution_count": 330,
   "metadata": {},
   "outputs": [
    {
     "data": {
      "text/plain": [
       "0.0"
      ]
     },
     "execution_count": 330,
     "metadata": {},
     "output_type": "execute_result"
    }
   ],
   "source": [
    "sv.score(X_test, y_test)"
   ]
  },
  {
   "cell_type": "code",
   "execution_count": 331,
   "metadata": {
    "collapsed": true
   },
   "outputs": [],
   "source": [
    "linear_svc = svm.SVC(kernel='linear')"
   ]
  },
  {
   "cell_type": "code",
   "execution_count": 332,
   "metadata": {},
   "outputs": [
    {
     "data": {
      "text/plain": [
       "SVC(C=1.0, cache_size=200, class_weight=None, coef0=0.0,\n",
       "  decision_function_shape='ovr', degree=3, gamma='auto', kernel='linear',\n",
       "  max_iter=-1, probability=False, random_state=None, shrinking=True,\n",
       "  tol=0.001, verbose=False)"
      ]
     },
     "execution_count": 332,
     "metadata": {},
     "output_type": "execute_result"
    }
   ],
   "source": [
    "linear_svc.fit(X_train, y_train)"
   ]
  },
  {
   "cell_type": "code",
   "execution_count": 333,
   "metadata": {
    "collapsed": true
   },
   "outputs": [],
   "source": [
    "linearsvmPredictions = linear_svc.predict(X_test)"
   ]
  },
  {
   "cell_type": "code",
   "execution_count": 334,
   "metadata": {},
   "outputs": [
    {
     "data": {
      "text/plain": [
       "0.016835016835016835"
      ]
     },
     "execution_count": 334,
     "metadata": {},
     "output_type": "execute_result"
    }
   ],
   "source": [
    "linear_svc.score(X_test, y_test)"
   ]
  },
  {
   "cell_type": "code",
   "execution_count": 335,
   "metadata": {},
   "outputs": [
    {
     "name": "stderr",
     "output_type": "stream",
     "text": [
      "/Users/abhisheksoni/anaconda3/lib/python3.6/site-packages/sklearn/svm/base.py:218: ConvergenceWarning: Solver terminated early (max_iter=1).  Consider pre-processing your data with StandardScaler or MinMaxScaler.\n",
      "  % self.max_iter, ConvergenceWarning)\n",
      "/Users/abhisheksoni/anaconda3/lib/python3.6/site-packages/sklearn/svm/base.py:218: ConvergenceWarning: Solver terminated early (max_iter=2).  Consider pre-processing your data with StandardScaler or MinMaxScaler.\n",
      "  % self.max_iter, ConvergenceWarning)\n",
      "/Users/abhisheksoni/anaconda3/lib/python3.6/site-packages/sklearn/svm/base.py:218: ConvergenceWarning: Solver terminated early (max_iter=3).  Consider pre-processing your data with StandardScaler or MinMaxScaler.\n",
      "  % self.max_iter, ConvergenceWarning)\n",
      "/Users/abhisheksoni/anaconda3/lib/python3.6/site-packages/sklearn/svm/base.py:218: ConvergenceWarning: Solver terminated early (max_iter=4).  Consider pre-processing your data with StandardScaler or MinMaxScaler.\n",
      "  % self.max_iter, ConvergenceWarning)\n",
      "/Users/abhisheksoni/anaconda3/lib/python3.6/site-packages/sklearn/svm/base.py:218: ConvergenceWarning: Solver terminated early (max_iter=5).  Consider pre-processing your data with StandardScaler or MinMaxScaler.\n",
      "  % self.max_iter, ConvergenceWarning)\n",
      "/Users/abhisheksoni/anaconda3/lib/python3.6/site-packages/sklearn/svm/base.py:218: ConvergenceWarning: Solver terminated early (max_iter=6).  Consider pre-processing your data with StandardScaler or MinMaxScaler.\n",
      "  % self.max_iter, ConvergenceWarning)\n",
      "/Users/abhisheksoni/anaconda3/lib/python3.6/site-packages/sklearn/svm/base.py:218: ConvergenceWarning: Solver terminated early (max_iter=7).  Consider pre-processing your data with StandardScaler or MinMaxScaler.\n",
      "  % self.max_iter, ConvergenceWarning)\n",
      "/Users/abhisheksoni/anaconda3/lib/python3.6/site-packages/sklearn/svm/base.py:218: ConvergenceWarning: Solver terminated early (max_iter=8).  Consider pre-processing your data with StandardScaler or MinMaxScaler.\n",
      "  % self.max_iter, ConvergenceWarning)\n",
      "/Users/abhisheksoni/anaconda3/lib/python3.6/site-packages/sklearn/svm/base.py:218: ConvergenceWarning: Solver terminated early (max_iter=9).  Consider pre-processing your data with StandardScaler or MinMaxScaler.\n",
      "  % self.max_iter, ConvergenceWarning)\n",
      "/Users/abhisheksoni/anaconda3/lib/python3.6/site-packages/sklearn/svm/base.py:218: ConvergenceWarning: Solver terminated early (max_iter=10).  Consider pre-processing your data with StandardScaler or MinMaxScaler.\n",
      "  % self.max_iter, ConvergenceWarning)\n",
      "/Users/abhisheksoni/anaconda3/lib/python3.6/site-packages/sklearn/svm/base.py:218: ConvergenceWarning: Solver terminated early (max_iter=11).  Consider pre-processing your data with StandardScaler or MinMaxScaler.\n",
      "  % self.max_iter, ConvergenceWarning)\n",
      "/Users/abhisheksoni/anaconda3/lib/python3.6/site-packages/sklearn/svm/base.py:218: ConvergenceWarning: Solver terminated early (max_iter=12).  Consider pre-processing your data with StandardScaler or MinMaxScaler.\n",
      "  % self.max_iter, ConvergenceWarning)\n",
      "/Users/abhisheksoni/anaconda3/lib/python3.6/site-packages/sklearn/svm/base.py:218: ConvergenceWarning: Solver terminated early (max_iter=13).  Consider pre-processing your data with StandardScaler or MinMaxScaler.\n",
      "  % self.max_iter, ConvergenceWarning)\n",
      "/Users/abhisheksoni/anaconda3/lib/python3.6/site-packages/sklearn/svm/base.py:218: ConvergenceWarning: Solver terminated early (max_iter=14).  Consider pre-processing your data with StandardScaler or MinMaxScaler.\n",
      "  % self.max_iter, ConvergenceWarning)\n",
      "/Users/abhisheksoni/anaconda3/lib/python3.6/site-packages/sklearn/svm/base.py:218: ConvergenceWarning: Solver terminated early (max_iter=15).  Consider pre-processing your data with StandardScaler or MinMaxScaler.\n",
      "  % self.max_iter, ConvergenceWarning)\n",
      "/Users/abhisheksoni/anaconda3/lib/python3.6/site-packages/sklearn/svm/base.py:218: ConvergenceWarning: Solver terminated early (max_iter=16).  Consider pre-processing your data with StandardScaler or MinMaxScaler.\n",
      "  % self.max_iter, ConvergenceWarning)\n",
      "/Users/abhisheksoni/anaconda3/lib/python3.6/site-packages/sklearn/svm/base.py:218: ConvergenceWarning: Solver terminated early (max_iter=17).  Consider pre-processing your data with StandardScaler or MinMaxScaler.\n",
      "  % self.max_iter, ConvergenceWarning)\n",
      "/Users/abhisheksoni/anaconda3/lib/python3.6/site-packages/sklearn/svm/base.py:218: ConvergenceWarning: Solver terminated early (max_iter=18).  Consider pre-processing your data with StandardScaler or MinMaxScaler.\n",
      "  % self.max_iter, ConvergenceWarning)\n",
      "/Users/abhisheksoni/anaconda3/lib/python3.6/site-packages/sklearn/svm/base.py:218: ConvergenceWarning: Solver terminated early (max_iter=19).  Consider pre-processing your data with StandardScaler or MinMaxScaler.\n",
      "  % self.max_iter, ConvergenceWarning)\n"
     ]
    }
   ],
   "source": [
    "iterscore = []\n",
    "for i in range(1, 20):\n",
    "    svctest = svm.SVC(kernel='linear', C=50, max_iter=i)\n",
    "    svctest.fit(X_train, y_train)\n",
    "    iterscore.append((i, svctest.score(X_train, y_train)))\n",
    "\n",
    "iterscoretest = []\n",
    "for i in range(1, 20):\n",
    "    svctest = svm.SVC(kernel='linear', C=50, max_iter=i)\n",
    "    svctest.fit(X_train, y_train)\n",
    "    iterscoretest.append((i, svctest.score(X_test, y_test)))"
   ]
  },
  {
   "cell_type": "code",
   "execution_count": 336,
   "metadata": {
    "collapsed": true
   },
   "outputs": [],
   "source": [
    "#iterscore"
   ]
  },
  {
   "cell_type": "code",
   "execution_count": 337,
   "metadata": {},
   "outputs": [
    {
     "data": {
      "image/png": "[encoded data removed]",
      "text/plain": [
       "<matplotlib.figure.Figure at 0x11109bac8>"
      ]
     },
     "metadata": {},
     "output_type": "display_data"
    }
   ],
   "source": [
    "x_val = [x[0] for x in iterscore]\n",
    "y_val = [x[1] for x in iterscore]\n",
    "\n",
    "#print x_val\n",
    "#plt.figure()\n",
    "\n",
    "plt.title(\"Linear SVM Iterations Accuracy - Leaf\")\n",
    "plt.xlabel(\"Iterations\")\n",
    "plt.ylabel(\"Accuracy\")\n",
    "plt.xticks(np.arange(0, 20, 1))\n",
    "plt.plot(x_val,y_val, label=\"Train\")\n",
    "\n",
    "x_val_test = [x[0] for x in iterscoretest]\n",
    "y_val_test = [x[1] for x in iterscoretest]\n",
    "plt.plot(x_val_test,y_val_test, label=\"Test\")\n",
    "plt.legend()\n",
    "plt.savefig(\"SVM Iterations Accuracy - Leaf\")\n",
    "#plt.plot(x_val,y_val,'or')\n",
    "#plt.show()\n",
    "#plt.plot(score)"
   ]
  },
  {
   "cell_type": "code",
   "execution_count": 338,
   "metadata": {
    "collapsed": true
   },
   "outputs": [],
   "source": [
    "score = []\n",
    "for i in range(1, 50):\n",
    "    svctest = svm.SVC(kernel='linear', C=i)\n",
    "    svctest.fit(X_train, y_train)\n",
    "    score.append((i, svctest.score(X_train, y_train)))\n",
    "    \n",
    "testscore = []\n",
    "for i in range(1, 50):\n",
    "    svctest = svm.SVC(kernel='linear', C=i)\n",
    "    svctest.fit(X_train, y_train)\n",
    "    testscore.append((i, svctest.score(X_test, y_test)))"
   ]
  },
  {
   "cell_type": "code",
   "execution_count": 339,
   "metadata": {},
   "outputs": [
    {
     "data": {
      "image/png": "[encoded data removed]",
      "text/plain": [
       "<matplotlib.figure.Figure at 0x111f089b0>"
      ]
     },
     "metadata": {},
     "output_type": "display_data"
    }
   ],
   "source": [
    "x_val = [x[0] for x in score]\n",
    "y_val = [x[1] for x in score]\n",
    "\n",
    "#print x_val\n",
    "#plt.figure()\n",
    "\n",
    "plt.title(\"Linear SVM Penalty Parameter Accuracy - Leaf\")\n",
    "plt.xlabel(\"Penalty Parameter\")\n",
    "plt.ylabel(\"Accuracy\")\n",
    "plt.plot(x_val,y_val, label=\"Train\")\n",
    "\n",
    "x_val_test = [x[0] for x in testscore]\n",
    "y_val_test = [x[1] for x in testscore]\n",
    "plt.plot(x_val_test, y_val_test, label=\"Test\")\n",
    "plt.legend()\n",
    "plt.savefig(\"SVM Penalty Parameter Accuracy - Leaf\")\n",
    "#plt.plot(x_val,y_val,'or')\n",
    "#plt.show()\n",
    "#plt.plot(score)"
   ]
  },
  {
   "cell_type": "code",
   "execution_count": 340,
   "metadata": {},
   "outputs": [
    {
     "name": "stderr",
     "output_type": "stream",
     "text": [
      "/Users/abhisheksoni/anaconda3/lib/python3.6/site-packages/sklearn/model_selection/_split.py:605: Warning: The least populated class in y has only 2 members, which is too few. The minimum number of members in any class cannot be less than n_splits=3.\n",
      "  % (min_groups, self.n_splits)), Warning)\n"
     ]
    },
    {
     "data": {
      "text/plain": [
       "GridSearchCV(cv=3, error_score='raise',\n",
       "       estimator=SVC(C=1.0, cache_size=200, class_weight=None, coef0=0.0,\n",
       "  decision_function_shape='ovr', degree=3, gamma='auto', kernel='rbf',\n",
       "  max_iter=-1, probability=False, random_state=None, shrinking=True,\n",
       "  tol=0.001, verbose=False),\n",
       "       fit_params=None, iid=True, n_jobs=1,\n",
       "       param_grid={'kernel': ('linear', 'rbf'), 'C': [1, 10, 20, 30, 40, 50, 100]},\n",
       "       pre_dispatch='2*n_jobs', refit=True, return_train_score='warn',\n",
       "       scoring=None, verbose=0)"
      ]
     },
     "execution_count": 340,
     "metadata": {},
     "output_type": "execute_result"
    }
   ],
   "source": [
    "parameters = {'kernel':('linear', 'rbf'), 'C':[1, 10, 20, 30, 40, 50, 100]}\n",
    "svc = svm.SVC()\n",
    "svcclf = GridSearchCV(svc, parameters, cv=3)\n",
    "svcclf.fit(X_train, y_train)"
   ]
  },
  {
   "cell_type": "code",
   "execution_count": 341,
   "metadata": {},
   "outputs": [
    {
     "data": {
      "text/plain": [
       "3"
      ]
     },
     "execution_count": 341,
     "metadata": {},
     "output_type": "execute_result"
    }
   ],
   "source": [
    "svcclf.n_splits_"
   ]
  },
  {
   "cell_type": "code",
   "execution_count": 342,
   "metadata": {},
   "outputs": [
    {
     "data": {
      "text/plain": [
       "SVC(C=100, cache_size=200, class_weight=None, coef0=0.0,\n",
       "  decision_function_shape='ovr', degree=3, gamma='auto', kernel='linear',\n",
       "  max_iter=-1, probability=False, random_state=None, shrinking=True,\n",
       "  tol=0.001, verbose=False)"
      ]
     },
     "execution_count": 342,
     "metadata": {},
     "output_type": "execute_result"
    }
   ],
   "source": [
    "svcclf.best_estimator_"
   ]
  },
  {
   "cell_type": "code",
   "execution_count": 343,
   "metadata": {},
   "outputs": [
    {
     "data": {
      "text/plain": [
       "0.9177489177489178"
      ]
     },
     "execution_count": 343,
     "metadata": {},
     "output_type": "execute_result"
    }
   ],
   "source": [
    "svcclf.best_score_"
   ]
  },
  {
   "cell_type": "code",
   "execution_count": 344,
   "metadata": {
    "collapsed": true
   },
   "outputs": [],
   "source": [
    "svc_best = svcclf.best_estimator_"
   ]
  },
  {
   "cell_type": "code",
   "execution_count": 345,
   "metadata": {},
   "outputs": [
    {
     "name": "stdout",
     "output_type": "stream",
     "text": [
      "207 ms ± 12.8 ms per loop (mean ± std. dev. of 7 runs, 1 loop each)\n"
     ]
    }
   ],
   "source": [
    "%%timeit\n",
    "svc_best.fit(X_train, y_train)"
   ]
  },
  {
   "cell_type": "code",
   "execution_count": 346,
   "metadata": {},
   "outputs": [
    {
     "name": "stdout",
     "output_type": "stream",
     "text": [
      "69.6 ms ± 4.43 ms per loop (mean ± std. dev. of 7 runs, 10 loops each)\n"
     ]
    }
   ],
   "source": [
    "%%timeit\n",
    "svc_best.score(X_test, y_test)"
   ]
  },
  {
   "cell_type": "code",
   "execution_count": 347,
   "metadata": {
    "collapsed": true
   },
   "outputs": [],
   "source": [
    "svc_train_error = []\n",
    "svc_test_error = []\n",
    "for i in range(1, 10):\n",
    "    X_train_svc, X_test_svc, y_train_svc, y_test_svc = train_test_split(df_train, y_train, test_size=i/10.0)\n",
    "    #print(X_test_dt.shape)\n",
    "    del X_train_svc[\"Target\"]\n",
    "    svc_best.fit(X_train_svc, y_train_svc)\n",
    "    svc_train_error.append((X_train_svc.shape[0], 1.0 - svc_best.score(X_train_svc, y_train_svc)))\n",
    "    svc_test_error.append((X_train_svc.shape[0], 1.0 - svc_best.score(X_test, y_test)))"
   ]
  },
  {
   "cell_type": "code",
   "execution_count": 348,
   "metadata": {
    "collapsed": true
   },
   "outputs": [],
   "source": [
    "#svc_train_error"
   ]
  },
  {
   "cell_type": "code",
   "execution_count": 349,
   "metadata": {
    "collapsed": true
   },
   "outputs": [],
   "source": [
    "#svc_test_error"
   ]
  },
  {
   "cell_type": "code",
   "execution_count": 350,
   "metadata": {},
   "outputs": [
    {
     "data": {
      "image/png": "[encoded data removed]",
      "text/plain": [
       "<matplotlib.figure.Figure at 0x113e36438>"
      ]
     },
     "metadata": {},
     "output_type": "display_data"
    }
   ],
   "source": [
    "x_val = [x[0] for x in svc_train_error]\n",
    "y_val = [x[1] for x in svc_train_error]\n",
    "\n",
    "#print x_val\n",
    "#plt.figure()\n",
    "\n",
    "plt.title(\"Support Vector Machine Learning Curve - Leaf Classification\")\n",
    "plt.xlabel(\"Training examples\")\n",
    "plt.ylabel(\"Error\")\n",
    "plt.plot(x_val,y_val, label=\"Train\")\n",
    "plt.plot(x_val,y_val,'or')\n",
    "#plt.show()\n",
    "\n",
    "x_val_test = [x[0] for x in svc_test_error]\n",
    "y_val_test = [x[1] for x in svc_test_error]\n",
    "\n",
    "plt.plot(x_val_test,y_val_test, label=\"Test\")\n",
    "plt.plot(x_val_test,y_val_test,'or')\n",
    "plt.legend()\n",
    "plt.savefig(\"Leaf SVM Learning Curve\")\n",
    "#plt.show()"
   ]
  },
  {
   "cell_type": "code",
   "execution_count": 351,
   "metadata": {
    "collapsed": true
   },
   "outputs": [],
   "source": [
    "boost = AdaBoostClassifier(DecisionTreeClassifier(class_weight=None, criterion='gini', max_depth=100,\n",
    "            max_features=None, max_leaf_nodes=None,\n",
    "            min_impurity_decrease=0.0, min_impurity_split=None,\n",
    "            min_samples_leaf=1, min_samples_split=10,\n",
    "            min_weight_fraction_leaf=0.0, presort=False, random_state=None,\n",
    "            splitter='best'))"
   ]
  },
  {
   "cell_type": "code",
   "execution_count": 352,
   "metadata": {},
   "outputs": [
    {
     "data": {
      "text/plain": [
       "AdaBoostClassifier(algorithm='SAMME.R',\n",
       "          base_estimator=DecisionTreeClassifier(class_weight=None, criterion='gini', max_depth=100,\n",
       "            max_features=None, max_leaf_nodes=None,\n",
       "            min_impurity_decrease=0.0, min_impurity_split=None,\n",
       "            min_samples_leaf=1, min_samples_split=10,\n",
       "            min_weight_fraction_leaf=0.0, presort=False, random_state=None,\n",
       "            splitter='best'),\n",
       "          learning_rate=1.0, n_estimators=50, random_state=None)"
      ]
     },
     "execution_count": 352,
     "metadata": {},
     "output_type": "execute_result"
    }
   ],
   "source": [
    "boost.fit(X_train, y_train)"
   ]
  },
  {
   "cell_type": "code",
   "execution_count": 353,
   "metadata": {
    "collapsed": true
   },
   "outputs": [],
   "source": [
    "boostPredictions = boost.predict(X_test)"
   ]
  },
  {
   "cell_type": "code",
   "execution_count": 354,
   "metadata": {},
   "outputs": [
    {
     "data": {
      "text/plain": [
       "0.8956228956228957"
      ]
     },
     "execution_count": 354,
     "metadata": {},
     "output_type": "execute_result"
    }
   ],
   "source": [
    "boost.score(X_test, y_test)"
   ]
  },
  {
   "cell_type": "code",
   "execution_count": 355,
   "metadata": {},
   "outputs": [
    {
     "name": "stdout",
     "output_type": "stream",
     "text": [
      "i,  20\n",
      "i,  40\n",
      "i,  60\n",
      "i,  80\n",
      "i,  20\n",
      "i,  40\n",
      "i,  60\n",
      "i,  80\n"
     ]
    }
   ],
   "source": [
    "score = []\n",
    "for i in range(20, 100, 20):\n",
    "    print(\"i, \", i)\n",
    "    DTC = DecisionTreeClassifier(class_weight=None, criterion='gini', max_depth=100,\n",
    "            max_features=None, max_leaf_nodes=None,\n",
    "            min_impurity_decrease=0.0, min_impurity_split=None,\n",
    "            min_samples_leaf=1, min_samples_split=10,\n",
    "            min_weight_fraction_leaf=0.0, presort=False, random_state=None,\n",
    "            splitter='best')\n",
    "    boosttest = AdaBoostClassifier(DTC, n_estimators=i)\n",
    "    boosttest.fit(X_train, y_train)\n",
    "    score.append((i, boosttest.score(X_train, y_train)))\n",
    "\n",
    "testscore = []\n",
    "for i in range(20, 100, 20):\n",
    "    print(\"i, \", i)\n",
    "    DTC = DecisionTreeClassifier(class_weight=None, criterion='gini', max_depth=100,\n",
    "            max_features=None, max_leaf_nodes=None,\n",
    "            min_impurity_decrease=0.0, min_impurity_split=None,\n",
    "            min_samples_leaf=1, min_samples_split=10,\n",
    "            min_weight_fraction_leaf=0.0, presort=False, random_state=None,\n",
    "            splitter='best')\n",
    "    boosttest = AdaBoostClassifier(DTC, n_estimators=i)\n",
    "    boosttest.fit(X_train, y_train)\n",
    "    testscore.append((i, boosttest.score(X_test, y_test)))"
   ]
  },
  {
   "cell_type": "code",
   "execution_count": 356,
   "metadata": {},
   "outputs": [
    {
     "data": {
      "image/png": "[encoded data removed]",
      "text/plain": [
       "<matplotlib.figure.Figure at 0x11232c860>"
      ]
     },
     "metadata": {},
     "output_type": "display_data"
    }
   ],
   "source": [
    "x_val = [x[0] for x in score]\n",
    "y_val = [x[1] for x in score]\n",
    "\n",
    "#print x_val\n",
    "#plt.figure()\n",
    "\n",
    "plt.title(\"Boosting Number of Estimators Accuracy - Leaf\")\n",
    "plt.xlabel(\"Number of Estimators\")\n",
    "plt.ylabel(\"Accuracy\")\n",
    "plt.plot(x_val,y_val, label=\"Train\")\n",
    "\n",
    "x_val_test = [x[0] for x in testscore]\n",
    "y_val_test = [x[1] for x in testscore]\n",
    "plt.plot(x_val_test,y_val_test, label=\"Test\")\n",
    "plt.legend()\n",
    "plt.savefig(\"Boosting Estimators Accuracy - Leaf\")\n",
    "#plt.plot(x_val,y_val,'or')\n",
    "#plt.show()\n",
    "#plt.plot(score)"
   ]
  },
  {
   "cell_type": "code",
   "execution_count": 357,
   "metadata": {},
   "outputs": [
    {
     "name": "stderr",
     "output_type": "stream",
     "text": [
      "/Users/abhisheksoni/anaconda3/lib/python3.6/site-packages/sklearn/model_selection/_split.py:605: Warning: The least populated class in y has only 2 members, which is too few. The minimum number of members in any class cannot be less than n_splits=3.\n",
      "  % (min_groups, self.n_splits)), Warning)\n"
     ]
    },
    {
     "data": {
      "text/plain": [
       "GridSearchCV(cv=3, error_score='raise',\n",
       "       estimator=AdaBoostClassifier(algorithm='SAMME.R',\n",
       "          base_estimator=DecisionTreeClassifier(class_weight=None, criterion='gini', max_depth=10,\n",
       "            max_features=None, max_leaf_nodes=None,\n",
       "            min_impurity_decrease=0.0, min_impurity_split=None,\n",
       "            min_samples_leaf=1, min_samples_split=20,\n",
       "            min_weight_fraction_leaf=0.0, presort=False, random_state=99,\n",
       "            splitter='best'),\n",
       "          learning_rate=1.0, n_estimators=50, random_state=None),\n",
       "       fit_params=None, iid=True, n_jobs=1,\n",
       "       param_grid={'n_estimators': [10, 25, 50, 75], 'learning_rate': [0.1, 0.25, 0.5, 1.0]},\n",
       "       pre_dispatch='2*n_jobs', refit=True, return_train_score='warn',\n",
       "       scoring=None, verbose=0)"
      ]
     },
     "execution_count": 357,
     "metadata": {},
     "output_type": "execute_result"
    }
   ],
   "source": [
    "boostparameters = {'n_estimators':[10, 25, 50, 75], 'learning_rate':[0.1,0.25,0.5,1.0]}\n",
    "DTC = DecisionTreeClassifier(min_samples_split=20, max_depth=10, random_state=99)\n",
    "boostc = AdaBoostClassifier(base_estimator = DTC)\n",
    "boostclf = GridSearchCV(boostc, boostparameters, cv=3)\n",
    "boostclf.fit(X_train, y_train)"
   ]
  },
  {
   "cell_type": "code",
   "execution_count": 358,
   "metadata": {},
   "outputs": [
    {
     "data": {
      "text/plain": [
       "3"
      ]
     },
     "execution_count": 358,
     "metadata": {},
     "output_type": "execute_result"
    }
   ],
   "source": [
    "boostclf.n_splits_"
   ]
  },
  {
   "cell_type": "code",
   "execution_count": 359,
   "metadata": {},
   "outputs": [
    {
     "data": {
      "text/plain": [
       "AdaBoostClassifier(algorithm='SAMME.R',\n",
       "          base_estimator=DecisionTreeClassifier(class_weight=None, criterion='gini', max_depth=10,\n",
       "            max_features=None, max_leaf_nodes=None,\n",
       "            min_impurity_decrease=0.0, min_impurity_split=None,\n",
       "            min_samples_leaf=1, min_samples_split=20,\n",
       "            min_weight_fraction_leaf=0.0, presort=False, random_state=99,\n",
       "            splitter='best'),\n",
       "          learning_rate=0.25, n_estimators=75, random_state=None)"
      ]
     },
     "execution_count": 359,
     "metadata": {},
     "output_type": "execute_result"
    }
   ],
   "source": [
    "boostclf.best_estimator_"
   ]
  },
  {
   "cell_type": "code",
   "execution_count": 360,
   "metadata": {},
   "outputs": [
    {
     "data": {
      "text/plain": [
       "0.7287157287157288"
      ]
     },
     "execution_count": 360,
     "metadata": {},
     "output_type": "execute_result"
    }
   ],
   "source": [
    "boostclf.best_score_"
   ]
  },
  {
   "cell_type": "code",
   "execution_count": 361,
   "metadata": {
    "collapsed": true
   },
   "outputs": [],
   "source": [
    "boost_best = boostclf.best_estimator_"
   ]
  },
  {
   "cell_type": "code",
   "execution_count": 362,
   "metadata": {},
   "outputs": [
    {
     "name": "stdout",
     "output_type": "stream",
     "text": [
      "11.7 s ± 801 ms per loop (mean ± std. dev. of 7 runs, 1 loop each)\n"
     ]
    }
   ],
   "source": [
    "%%timeit\n",
    "boost_best.fit(X_train, y_train)"
   ]
  },
  {
   "cell_type": "code",
   "execution_count": 363,
   "metadata": {},
   "outputs": [
    {
     "name": "stdout",
     "output_type": "stream",
     "text": [
      "89 ms ± 7.72 ms per loop (mean ± std. dev. of 7 runs, 10 loops each)\n"
     ]
    }
   ],
   "source": [
    "%%timeit\n",
    "boost_best.score(X_test, y_test)"
   ]
  },
  {
   "cell_type": "code",
   "execution_count": 364,
   "metadata": {
    "collapsed": true
   },
   "outputs": [],
   "source": [
    "boost_train_error = []\n",
    "boost_test_error = []\n",
    "for i in range(1, 10):\n",
    "    X_train_boost, X_test_boost, y_train_boost, y_test_boost = train_test_split(df_train, y_train, test_size=i/10.0)\n",
    "    #print(X_test_dt.shape)\n",
    "    del X_train_boost[\"Target\"]\n",
    "    boost_best.fit(X_train_boost, y_train_boost)\n",
    "    boost_train_error.append((X_train_boost.shape[0], 1.0 - boost_best.score(X_train_boost, y_train_boost)))\n",
    "    boost_test_error.append((X_train_boost.shape[0], 1.0 - boost_best.score(X_test, y_test)))"
   ]
  },
  {
   "cell_type": "code",
   "execution_count": 365,
   "metadata": {
    "collapsed": true
   },
   "outputs": [],
   "source": [
    "#boost_train_error"
   ]
  },
  {
   "cell_type": "code",
   "execution_count": 366,
   "metadata": {
    "collapsed": true
   },
   "outputs": [],
   "source": [
    "#boost_test_error"
   ]
  },
  {
   "cell_type": "code",
   "execution_count": 8,
   "metadata": {},
   "outputs": [
    {
     "ename": "NameError",
     "evalue": "name 'boost_train_error' is not defined",
     "output_type": "error",
     "traceback": [
      "\u001b[0;31m---------------------------------------------------------------------------\u001b[0m",
      "\u001b[0;31mNameError\u001b[0m                                 Traceback (most recent call last)",
      "\u001b[0;32m<ipython-input-8-808d2a88bd78>\u001b[0m in \u001b[0;36m<module>\u001b[0;34m()\u001b[0m\n\u001b[0;32m----> 1\u001b[0;31m \u001b[0mx_val\u001b[0m \u001b[0;34m=\u001b[0m \u001b[0;34m[\u001b[0m\u001b[0mx\u001b[0m\u001b[0;34m[\u001b[0m\u001b[0;36m0\u001b[0m\u001b[0;34m]\u001b[0m \u001b[0;32mfor\u001b[0m \u001b[0mx\u001b[0m \u001b[0;32min\u001b[0m \u001b[0mboost_train_error\u001b[0m\u001b[0;34m]\u001b[0m\u001b[0;34m\u001b[0m\u001b[0m\n\u001b[0m\u001b[1;32m      2\u001b[0m \u001b[0my_val\u001b[0m \u001b[0;34m=\u001b[0m \u001b[0;34m[\u001b[0m\u001b[0mx\u001b[0m\u001b[0;34m[\u001b[0m\u001b[0;36m1\u001b[0m\u001b[0;34m]\u001b[0m \u001b[0;32mfor\u001b[0m \u001b[0mx\u001b[0m \u001b[0;32min\u001b[0m \u001b[0mboost_train_error\u001b[0m\u001b[0;34m]\u001b[0m\u001b[0;34m\u001b[0m\u001b[0m\n\u001b[1;32m      3\u001b[0m \u001b[0;34m\u001b[0m\u001b[0m\n\u001b[1;32m      4\u001b[0m \u001b[0;31m#print x_val\u001b[0m\u001b[0;34m\u001b[0m\u001b[0;34m\u001b[0m\u001b[0m\n\u001b[1;32m      5\u001b[0m \u001b[0;31m#plt.figure()\u001b[0m\u001b[0;34m\u001b[0m\u001b[0;34m\u001b[0m\u001b[0m\n",
      "\u001b[0;31mNameError\u001b[0m: name 'boost_train_error' is not defined"
     ]
    }
   ],
   "source": [
    "x_val = [x[0] for x in boost_train_error]\n",
    "y_val = [x[1] for x in boost_train_error]\n",
    "\n",
    "#print x_val\n",
    "#plt.figure()\n",
    "\n",
    "plt.title(\"Boosting Learning Curve - Leaf Classification\")\n",
    "plt.xlabel(\"Training examples\")\n",
    "plt.ylabel(\"Error\")\n",
    "plt.plot(x_val,y_val, label=\"Train\")\n",
    "plt.plot(x_val,y_val,'or')\n",
    "#plt.show()\n",
    "\n",
    "x_val_test = [x[0] for x in boost_test_error]\n",
    "y_val_test = [x[1] for x in boost_test_error]\n",
    "\n",
    "plt.plot(x_val_test,y_val_test, label=\"Test\")\n",
    "plt.plot(x_val_test,y_val_test,'or')\n",
    "plt.legend()\n",
    "plt.savefig(\"Boosting Learning Curve\")\n",
    "#plt.show()"
   ]
  },
  {
   "cell_type": "code",
   "execution_count": null,
   "metadata": {
    "collapsed": true
   },
   "outputs": [],
   "source": []
  }
 ],
 "metadata": {
  "kernelspec": {
   "display_name": "Python 3",
   "language": "python",
   "name": "python3"
  },
  "language_info": {
   "codemirror_mode": {
    "name": "ipython",
    "version": 3
   },
   "file_extension": ".py",
   "mimetype": "text/x-python",
   "name": "python",
   "nbconvert_exporter": "python",
   "pygments_lexer": "ipython3",
   "version": "3.6.3"
  }
 },
 "nbformat": 4,
 "nbformat_minor": 2
}
